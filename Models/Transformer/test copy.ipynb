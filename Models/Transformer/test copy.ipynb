{
 "cells": [
  {
   "cell_type": "code",
   "execution_count": 7,
   "metadata": {},
   "outputs": [],
   "source": [
    "import numpy as np\n",
    "import pandas as pd\n",
    "import pytorch_lightning as pl\n",
    "import matplotlib.pyplot as plt\n",
    "\n",
    "from neuralforecast import NeuralForecast\n",
    "from neuralforecast.models import MLP\n",
    "from neuralforecast.losses.pytorch import MQLoss, DistributionLoss,MAE\n",
    "from neuralforecast.tsdataset import TimeSeriesDataset\n",
    "from neuralforecast.utils import AirPassengers, AirPassengersPanel, AirPassengersStatic, augment_calendar_df\n",
    "from neuralforecast.models import Autoformer    "
   ]
  },
  {
   "cell_type": "code",
   "execution_count": 8,
   "metadata": {},
   "outputs": [],
   "source": [
    "AirPassengersPanel, calendar_cols = augment_calendar_df(df=AirPassengersPanel, freq='M')\n",
    "\n",
    "Y_train_df = AirPassengersPanel[AirPassengersPanel.ds<AirPassengersPanel['ds'].values[-12]] # 132 train\n",
    "Y_test_df = AirPassengersPanel[AirPassengersPanel.ds>=AirPassengersPanel['ds'].values[-12]].reset_index(drop=True) # 12 test"
   ]
  },
  {
   "cell_type": "code",
   "execution_count": 9,
   "metadata": {},
   "outputs": [
    {
     "data": {
      "text/plain": [
       "unique_id            object\n",
       "ds           datetime64[ns]\n",
       "y                   float32\n",
       "trend                 int64\n",
       "y_[lag12]           float32\n",
       "month               float64\n",
       "dtype: object"
      ]
     },
     "execution_count": 9,
     "metadata": {},
     "output_type": "execute_result"
    }
   ],
   "source": [
    "Y_train_df.dtypes"
   ]
  },
  {
   "cell_type": "code",
   "execution_count": 10,
   "metadata": {},
   "outputs": [
    {
     "data": {
      "text/html": [
       "<div>\n",
       "<style scoped>\n",
       "    .dataframe tbody tr th:only-of-type {\n",
       "        vertical-align: middle;\n",
       "    }\n",
       "\n",
       "    .dataframe tbody tr th {\n",
       "        vertical-align: top;\n",
       "    }\n",
       "\n",
       "    .dataframe thead th {\n",
       "        text-align: right;\n",
       "    }\n",
       "</style>\n",
       "<table border=\"1\" class=\"dataframe\">\n",
       "  <thead>\n",
       "    <tr style=\"text-align: right;\">\n",
       "      <th></th>\n",
       "      <th>unique_id</th>\n",
       "      <th>ds</th>\n",
       "      <th>y</th>\n",
       "      <th>trend</th>\n",
       "      <th>y_[lag12]</th>\n",
       "      <th>month</th>\n",
       "    </tr>\n",
       "  </thead>\n",
       "  <tbody>\n",
       "    <tr>\n",
       "      <th>0</th>\n",
       "      <td>Airline1</td>\n",
       "      <td>1960-01-31</td>\n",
       "      <td>417.0</td>\n",
       "      <td>132</td>\n",
       "      <td>360.0</td>\n",
       "      <td>-0.500000</td>\n",
       "    </tr>\n",
       "    <tr>\n",
       "      <th>1</th>\n",
       "      <td>Airline1</td>\n",
       "      <td>1960-02-29</td>\n",
       "      <td>391.0</td>\n",
       "      <td>133</td>\n",
       "      <td>342.0</td>\n",
       "      <td>-0.409091</td>\n",
       "    </tr>\n",
       "    <tr>\n",
       "      <th>2</th>\n",
       "      <td>Airline1</td>\n",
       "      <td>1960-03-31</td>\n",
       "      <td>419.0</td>\n",
       "      <td>134</td>\n",
       "      <td>406.0</td>\n",
       "      <td>-0.318182</td>\n",
       "    </tr>\n",
       "    <tr>\n",
       "      <th>3</th>\n",
       "      <td>Airline1</td>\n",
       "      <td>1960-04-30</td>\n",
       "      <td>461.0</td>\n",
       "      <td>135</td>\n",
       "      <td>396.0</td>\n",
       "      <td>-0.227273</td>\n",
       "    </tr>\n",
       "    <tr>\n",
       "      <th>4</th>\n",
       "      <td>Airline1</td>\n",
       "      <td>1960-05-31</td>\n",
       "      <td>472.0</td>\n",
       "      <td>136</td>\n",
       "      <td>420.0</td>\n",
       "      <td>-0.136364</td>\n",
       "    </tr>\n",
       "    <tr>\n",
       "      <th>5</th>\n",
       "      <td>Airline1</td>\n",
       "      <td>1960-06-30</td>\n",
       "      <td>535.0</td>\n",
       "      <td>137</td>\n",
       "      <td>472.0</td>\n",
       "      <td>-0.045455</td>\n",
       "    </tr>\n",
       "    <tr>\n",
       "      <th>6</th>\n",
       "      <td>Airline1</td>\n",
       "      <td>1960-07-31</td>\n",
       "      <td>622.0</td>\n",
       "      <td>138</td>\n",
       "      <td>548.0</td>\n",
       "      <td>0.045455</td>\n",
       "    </tr>\n",
       "    <tr>\n",
       "      <th>7</th>\n",
       "      <td>Airline1</td>\n",
       "      <td>1960-08-31</td>\n",
       "      <td>606.0</td>\n",
       "      <td>139</td>\n",
       "      <td>559.0</td>\n",
       "      <td>0.136364</td>\n",
       "    </tr>\n",
       "    <tr>\n",
       "      <th>8</th>\n",
       "      <td>Airline1</td>\n",
       "      <td>1960-09-30</td>\n",
       "      <td>508.0</td>\n",
       "      <td>140</td>\n",
       "      <td>463.0</td>\n",
       "      <td>0.227273</td>\n",
       "    </tr>\n",
       "    <tr>\n",
       "      <th>9</th>\n",
       "      <td>Airline1</td>\n",
       "      <td>1960-10-31</td>\n",
       "      <td>461.0</td>\n",
       "      <td>141</td>\n",
       "      <td>407.0</td>\n",
       "      <td>0.318182</td>\n",
       "    </tr>\n",
       "    <tr>\n",
       "      <th>10</th>\n",
       "      <td>Airline1</td>\n",
       "      <td>1960-11-30</td>\n",
       "      <td>390.0</td>\n",
       "      <td>142</td>\n",
       "      <td>362.0</td>\n",
       "      <td>0.409091</td>\n",
       "    </tr>\n",
       "    <tr>\n",
       "      <th>11</th>\n",
       "      <td>Airline1</td>\n",
       "      <td>1960-12-31</td>\n",
       "      <td>432.0</td>\n",
       "      <td>143</td>\n",
       "      <td>405.0</td>\n",
       "      <td>0.500000</td>\n",
       "    </tr>\n",
       "    <tr>\n",
       "      <th>12</th>\n",
       "      <td>Airline2</td>\n",
       "      <td>1960-01-31</td>\n",
       "      <td>717.0</td>\n",
       "      <td>276</td>\n",
       "      <td>660.0</td>\n",
       "      <td>-0.500000</td>\n",
       "    </tr>\n",
       "    <tr>\n",
       "      <th>13</th>\n",
       "      <td>Airline2</td>\n",
       "      <td>1960-02-29</td>\n",
       "      <td>691.0</td>\n",
       "      <td>277</td>\n",
       "      <td>642.0</td>\n",
       "      <td>-0.409091</td>\n",
       "    </tr>\n",
       "    <tr>\n",
       "      <th>14</th>\n",
       "      <td>Airline2</td>\n",
       "      <td>1960-03-31</td>\n",
       "      <td>719.0</td>\n",
       "      <td>278</td>\n",
       "      <td>706.0</td>\n",
       "      <td>-0.318182</td>\n",
       "    </tr>\n",
       "    <tr>\n",
       "      <th>15</th>\n",
       "      <td>Airline2</td>\n",
       "      <td>1960-04-30</td>\n",
       "      <td>761.0</td>\n",
       "      <td>279</td>\n",
       "      <td>696.0</td>\n",
       "      <td>-0.227273</td>\n",
       "    </tr>\n",
       "    <tr>\n",
       "      <th>16</th>\n",
       "      <td>Airline2</td>\n",
       "      <td>1960-05-31</td>\n",
       "      <td>772.0</td>\n",
       "      <td>280</td>\n",
       "      <td>720.0</td>\n",
       "      <td>-0.136364</td>\n",
       "    </tr>\n",
       "    <tr>\n",
       "      <th>17</th>\n",
       "      <td>Airline2</td>\n",
       "      <td>1960-06-30</td>\n",
       "      <td>835.0</td>\n",
       "      <td>281</td>\n",
       "      <td>772.0</td>\n",
       "      <td>-0.045455</td>\n",
       "    </tr>\n",
       "    <tr>\n",
       "      <th>18</th>\n",
       "      <td>Airline2</td>\n",
       "      <td>1960-07-31</td>\n",
       "      <td>922.0</td>\n",
       "      <td>282</td>\n",
       "      <td>848.0</td>\n",
       "      <td>0.045455</td>\n",
       "    </tr>\n",
       "    <tr>\n",
       "      <th>19</th>\n",
       "      <td>Airline2</td>\n",
       "      <td>1960-08-31</td>\n",
       "      <td>906.0</td>\n",
       "      <td>283</td>\n",
       "      <td>859.0</td>\n",
       "      <td>0.136364</td>\n",
       "    </tr>\n",
       "    <tr>\n",
       "      <th>20</th>\n",
       "      <td>Airline2</td>\n",
       "      <td>1960-09-30</td>\n",
       "      <td>808.0</td>\n",
       "      <td>284</td>\n",
       "      <td>763.0</td>\n",
       "      <td>0.227273</td>\n",
       "    </tr>\n",
       "    <tr>\n",
       "      <th>21</th>\n",
       "      <td>Airline2</td>\n",
       "      <td>1960-10-31</td>\n",
       "      <td>761.0</td>\n",
       "      <td>285</td>\n",
       "      <td>707.0</td>\n",
       "      <td>0.318182</td>\n",
       "    </tr>\n",
       "    <tr>\n",
       "      <th>22</th>\n",
       "      <td>Airline2</td>\n",
       "      <td>1960-11-30</td>\n",
       "      <td>690.0</td>\n",
       "      <td>286</td>\n",
       "      <td>662.0</td>\n",
       "      <td>0.409091</td>\n",
       "    </tr>\n",
       "    <tr>\n",
       "      <th>23</th>\n",
       "      <td>Airline2</td>\n",
       "      <td>1960-12-31</td>\n",
       "      <td>732.0</td>\n",
       "      <td>287</td>\n",
       "      <td>705.0</td>\n",
       "      <td>0.500000</td>\n",
       "    </tr>\n",
       "  </tbody>\n",
       "</table>\n",
       "</div>"
      ],
      "text/plain": [
       "   unique_id         ds      y  trend  y_[lag12]     month\n",
       "0   Airline1 1960-01-31  417.0    132      360.0 -0.500000\n",
       "1   Airline1 1960-02-29  391.0    133      342.0 -0.409091\n",
       "2   Airline1 1960-03-31  419.0    134      406.0 -0.318182\n",
       "3   Airline1 1960-04-30  461.0    135      396.0 -0.227273\n",
       "4   Airline1 1960-05-31  472.0    136      420.0 -0.136364\n",
       "5   Airline1 1960-06-30  535.0    137      472.0 -0.045455\n",
       "6   Airline1 1960-07-31  622.0    138      548.0  0.045455\n",
       "7   Airline1 1960-08-31  606.0    139      559.0  0.136364\n",
       "8   Airline1 1960-09-30  508.0    140      463.0  0.227273\n",
       "9   Airline1 1960-10-31  461.0    141      407.0  0.318182\n",
       "10  Airline1 1960-11-30  390.0    142      362.0  0.409091\n",
       "11  Airline1 1960-12-31  432.0    143      405.0  0.500000\n",
       "12  Airline2 1960-01-31  717.0    276      660.0 -0.500000\n",
       "13  Airline2 1960-02-29  691.0    277      642.0 -0.409091\n",
       "14  Airline2 1960-03-31  719.0    278      706.0 -0.318182\n",
       "15  Airline2 1960-04-30  761.0    279      696.0 -0.227273\n",
       "16  Airline2 1960-05-31  772.0    280      720.0 -0.136364\n",
       "17  Airline2 1960-06-30  835.0    281      772.0 -0.045455\n",
       "18  Airline2 1960-07-31  922.0    282      848.0  0.045455\n",
       "19  Airline2 1960-08-31  906.0    283      859.0  0.136364\n",
       "20  Airline2 1960-09-30  808.0    284      763.0  0.227273\n",
       "21  Airline2 1960-10-31  761.0    285      707.0  0.318182\n",
       "22  Airline2 1960-11-30  690.0    286      662.0  0.409091\n",
       "23  Airline2 1960-12-31  732.0    287      705.0  0.500000"
      ]
     },
     "execution_count": 10,
     "metadata": {},
     "output_type": "execute_result"
    }
   ],
   "source": [
    "Y_test_df"
   ]
  },
  {
   "cell_type": "code",
   "execution_count": null,
   "metadata": {},
   "outputs": [],
   "source": []
  },
  {
   "cell_type": "code",
   "execution_count": 11,
   "metadata": {},
   "outputs": [
    {
     "name": "stderr",
     "output_type": "stream",
     "text": [
      "Seed set to 1\n"
     ]
    }
   ],
   "source": [
    "model = Autoformer(h=12,\n",
    "                 input_size=24,\n",
    "                 hidden_size = 16,\n",
    "                 conv_hidden_size = 32,\n",
    "                 n_head=2,\n",
    "                 loss=MAE(),\n",
    "                 futr_exog_list=calendar_cols,\n",
    "                 scaler_type='robust',\n",
    "                 learning_rate=1e-3,\n",
    "                 max_steps=300,\n",
    "                 val_check_steps=50,\n",
    "                 early_stop_patience_steps=2)\n",
    "nf = NeuralForecast(\n",
    "    models=[model],\n",
    "    freq='M'\n",
    ")"
   ]
  },
  {
   "cell_type": "code",
   "execution_count": 12,
   "metadata": {},
   "outputs": [
    {
     "name": "stdout",
     "output_type": "stream",
     "text": [
      "Sanity Checking: |          | 0/? [00:00<?, ?it/s]"
     ]
    },
    {
     "name": "stdout",
     "output_type": "stream",
     "text": [
      "Epoch 299: 100%|██████████| 1/1 [00:00<00:00, 23.39it/s, v_num=166, train_loss_step=0.554, train_loss_epoch=0.554, valid_loss=15.40]\n"
     ]
    }
   ],
   "source": [
    "nf = NeuralForecast(\n",
    "    models=[model],\n",
    "    freq='M'\n",
    ")\n",
    "nf.fit(df=Y_train_df, static_df=AirPassengersStatic, val_size=12)\n"
   ]
  },
  {
   "cell_type": "code",
   "execution_count": 13,
   "metadata": {},
   "outputs": [
    {
     "name": "stdout",
     "output_type": "stream",
     "text": [
      "Predicting DataLoader 0: 100%|██████████| 1/1 [00:00<00:00, 112.86it/s]\n"
     ]
    }
   ],
   "source": [
    "forecasts = nf.predict(futr_df=Y_test_df)\n"
   ]
  },
  {
   "cell_type": "code",
   "execution_count": 14,
   "metadata": {},
   "outputs": [
    {
     "data": {
      "image/png": "[encoded data removed]",
      "text/plain": [
       "<Figure size 640x480 with 1 Axes>"
      ]
     },
     "metadata": {},
     "output_type": "display_data"
    }
   ],
   "source": [
    "Y_hat_df = forecasts.reset_index(drop=False).drop(columns=['unique_id','ds'])\n",
    "plot_df = pd.concat([Y_test_df, Y_hat_df], axis=1)\n",
    "plot_df = pd.concat([Y_train_df, plot_df])\n",
    "\n",
    "if model.loss.is_distribution_output:\n",
    "    plot_df = plot_df[plot_df.unique_id=='Airline1'].drop('unique_id', axis=1)\n",
    "    plt.plot(plot_df['ds'], plot_df['y'], c='black', label='True')\n",
    "    plt.plot(plot_df['ds'], plot_df['Autoformer-median'], c='blue', label='median')\n",
    "    plt.fill_between(x=plot_df['ds'][-12:], \n",
    "                    y1=plot_df['Autoformer-lo-90'][-12:].values, \n",
    "                    y2=plot_df['Autoformer-hi-90'][-12:].values,\n",
    "                    alpha=0.4, label='level 90')\n",
    "    plt.grid()\n",
    "    plt.legend()\n",
    "    plt.plot()\n",
    "else:\n",
    "    plot_df = plot_df[plot_df.unique_id=='Airline1'].drop('unique_id', axis=1)\n",
    "    plt.plot(plot_df['ds'], plot_df['y'], c='black', label='True')\n",
    "    plt.plot(plot_df['ds'], plot_df['Autoformer'], c='blue', label='Forecast')\n",
    "    plt.legend()\n",
    "    plt.grid()"
   ]
  },
  {
   "cell_type": "code",
   "execution_count": 15,
   "metadata": {},
   "outputs": [
    {
     "data": {
      "text/plain": [
       "Reusing TensorBoard on port 6006 (pid 107368), started 0:20:47 ago. (Use '!kill 107368' to kill it.)"
      ]
     },
     "metadata": {},
     "output_type": "display_data"
    },
    {
     "data": {
      "text/html": [
       "\n",
       "      <iframe id=\"tensorboard-frame-91b7584a2265b1f5\" width=\"100%\" height=\"800\" frameborder=\"0\">\n",
       "      </iframe>\n",
       "      <script>\n",
       "        (function() {\n",
       "          const frame = document.getElementById(\"tensorboard-frame-91b7584a2265b1f5\");\n",
       "          const url = new URL(\"http://localhost\");\n",
       "          const port = 6006;\n",
       "          if (port) {\n",
       "            url.port = port;\n",
       "          }\n",
       "          frame.src = url;\n",
       "        })();\n",
       "      </script>\n",
       "    "
      ],
      "text/plain": [
       "<IPython.core.display.HTML object>"
      ]
     },
     "metadata": {},
     "output_type": "display_data"
    }
   ],
   "source": [
    "#show tensorboard graphs\n",
    "%load_ext tensorboard\n",
    "%tensorboard --logdir lightning_logs/\n",
    "\n"
   ]
  }
 ],
 "metadata": {
  "kernelspec": {
   "display_name": "gen",
   "language": "python",
   "name": "python3"
  },
  "language_info": {
   "codemirror_mode": {
    "name": "ipython",
    "version": 3
   },
   "file_extension": ".py",
   "mimetype": "text/x-python",
   "name": "python",
   "nbconvert_exporter": "python",
   "pygments_lexer": "ipython3",
   "version": "3.10.13"
  }
 },
 "nbformat": 4,
 "nbformat_minor": 2
}
