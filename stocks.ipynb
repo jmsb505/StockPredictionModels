{
 "cells": [
  {
   "cell_type": "code",
   "execution_count": 21,
   "metadata": {},
   "outputs": [],
   "source": [
    "import pandas as pd\n",
    "import matplotlib.pyplot as plt\n",
    "import os"
   ]
  },
  {
   "cell_type": "code",
   "execution_count": 22,
   "metadata": {},
   "outputs": [
    {
     "name": "stdout",
     "output_type": "stream",
     "text": [
      "            Date       Open       High        Low      Close  Adj Close  \\\n",
      "0     2015-01-02  27.847500  27.860001  26.837500  27.332500  24.498682   \n",
      "1     2015-01-05  27.072500  27.162500  26.352501  26.562500  23.808516   \n",
      "2     2015-01-06  26.635000  26.857500  26.157499  26.565001  23.810760   \n",
      "3     2015-01-07  26.799999  27.049999  26.674999  26.937500  24.144634   \n",
      "4     2015-01-08  27.307501  28.037500  27.174999  27.972500  25.072321   \n",
      "...          ...        ...        ...        ...        ...        ...   \n",
      "7543  2019-12-24  89.690498  89.778503  89.378998  89.460503  89.460503   \n",
      "7544  2019-12-26  90.050499  93.523003  89.974998  93.438499  93.438499   \n",
      "7545  2019-12-27  94.146004  95.070000  93.300499  93.489998  93.489998   \n",
      "7546  2019-12-30  93.699997  94.199997  92.030998  92.344498  92.344498   \n",
      "7547  2019-12-31  92.099998  92.663002  91.611504  92.391998  92.391998   \n",
      "\n",
      "         Volume ticker_symbol  \n",
      "0     212818400          AAPL  \n",
      "1     257142000          AAPL  \n",
      "2     263188400          AAPL  \n",
      "3     160423600          AAPL  \n",
      "4     237458000          AAPL  \n",
      "...         ...           ...  \n",
      "7543   17626000          AMZN  \n",
      "7544  120108000          AMZN  \n",
      "7545  123732000          AMZN  \n",
      "7546   73494000          AMZN  \n",
      "7547   50130000          AMZN  \n",
      "\n",
      "[7548 rows x 8 columns]\n"
     ]
    }
   ],
   "source": [
    "folder_path = 'Stocks'  \n",
    "\n",
    "csv_files = [f for f in os.listdir(folder_path) if f.endswith('.csv')]\n",
    "dfs = []\n",
    "for csv_file in csv_files:\n",
    "    df = pd.read_csv(os.path.join(folder_path, csv_file))\n",
    "    df['ticker_symbol'] = csv_file.rsplit('.', 1)[0]\n",
    "    dfs.append(df)\n",
    "\n",
    "df = pd.concat(dfs, ignore_index=True)\n",
    "final_df=df[['Date','ticker_symbol','Open','High','Low','Close','Adj Close','Volume']]\n",
    "print(df)\n"
   ]
  },
  {
   "cell_type": "code",
   "execution_count": 23,
   "metadata": {},
   "outputs": [
    {
     "name": "stdout",
     "output_type": "stream",
     "text": [
      "ticker_symbol\n",
      "AAPL     1258\n",
      "TSLA     1258\n",
      "GOOG     1258\n",
      "MSFT     1258\n",
      "GOOGL    1258\n",
      "AMZN     1258\n",
      "Name: count, dtype: int64\n"
     ]
    }
   ],
   "source": [
    "counts = final_df['ticker_symbol'].value_counts()\n",
    "print(counts)"
   ]
  },
  {
   "cell_type": "code",
   "execution_count": 24,
   "metadata": {},
   "outputs": [
    {
     "data": {
      "text/html": [
       "<div>\n",
       "<style scoped>\n",
       "    .dataframe tbody tr th:only-of-type {\n",
       "        vertical-align: middle;\n",
       "    }\n",
       "\n",
       "    .dataframe tbody tr th {\n",
       "        vertical-align: top;\n",
       "    }\n",
       "\n",
       "    .dataframe thead th {\n",
       "        text-align: right;\n",
       "    }\n",
       "</style>\n",
       "<table border=\"1\" class=\"dataframe\">\n",
       "  <thead>\n",
       "    <tr style=\"text-align: right;\">\n",
       "      <th></th>\n",
       "      <th>Date</th>\n",
       "      <th>ticker_symbol</th>\n",
       "      <th>Open</th>\n",
       "      <th>High</th>\n",
       "      <th>Low</th>\n",
       "    </tr>\n",
       "  </thead>\n",
       "  <tbody>\n",
       "    <tr>\n",
       "      <th>0</th>\n",
       "      <td>2015-01-02</td>\n",
       "      <td>AAPL</td>\n",
       "      <td>27.847500</td>\n",
       "      <td>27.860001</td>\n",
       "      <td>26.837500</td>\n",
       "    </tr>\n",
       "    <tr>\n",
       "      <th>1</th>\n",
       "      <td>2015-01-05</td>\n",
       "      <td>AAPL</td>\n",
       "      <td>27.072500</td>\n",
       "      <td>27.162500</td>\n",
       "      <td>26.352501</td>\n",
       "    </tr>\n",
       "    <tr>\n",
       "      <th>2</th>\n",
       "      <td>2015-01-06</td>\n",
       "      <td>AAPL</td>\n",
       "      <td>26.635000</td>\n",
       "      <td>26.857500</td>\n",
       "      <td>26.157499</td>\n",
       "    </tr>\n",
       "    <tr>\n",
       "      <th>3</th>\n",
       "      <td>2015-01-07</td>\n",
       "      <td>AAPL</td>\n",
       "      <td>26.799999</td>\n",
       "      <td>27.049999</td>\n",
       "      <td>26.674999</td>\n",
       "    </tr>\n",
       "    <tr>\n",
       "      <th>4</th>\n",
       "      <td>2015-01-08</td>\n",
       "      <td>AAPL</td>\n",
       "      <td>27.307501</td>\n",
       "      <td>28.037500</td>\n",
       "      <td>27.174999</td>\n",
       "    </tr>\n",
       "  </tbody>\n",
       "</table>\n",
       "</div>"
      ],
      "text/plain": [
       "         Date ticker_symbol       Open       High        Low\n",
       "0  2015-01-02          AAPL  27.847500  27.860001  26.837500\n",
       "1  2015-01-05          AAPL  27.072500  27.162500  26.352501\n",
       "2  2015-01-06          AAPL  26.635000  26.857500  26.157499\n",
       "3  2015-01-07          AAPL  26.799999  27.049999  26.674999\n",
       "4  2015-01-08          AAPL  27.307501  28.037500  27.174999"
      ]
     },
     "execution_count": 24,
     "metadata": {},
     "output_type": "execute_result"
    }
   ],
   "source": [
    "df=final_df[['Date','ticker_symbol','Open','High','Low']]\n",
    "df.head()"
   ]
  },
  {
   "cell_type": "code",
   "execution_count": 25,
   "metadata": {},
   "outputs": [],
   "source": [
    "df.to_csv(\"Data/StocksJoined.csv\", index=False)"
   ]
  }
 ],
 "metadata": {
  "kernelspec": {
   "display_name": "gen",
   "language": "python",
   "name": "python3"
  },
  "language_info": {
   "codemirror_mode": {
    "name": "ipython",
    "version": 3
   },
   "file_extension": ".py",
   "mimetype": "text/x-python",
   "name": "python",
   "nbconvert_exporter": "python",
   "pygments_lexer": "ipython3",
   "version": "3.9.18"
  },
  "orig_nbformat": 4
 },
 "nbformat": 4,
 "nbformat_minor": 2
}
